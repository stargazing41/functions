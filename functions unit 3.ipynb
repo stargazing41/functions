{
 "cells": [
  {
   "cell_type": "code",
   "execution_count": 83,
   "metadata": {},
   "outputs": [
    {
     "name": "stdout",
     "output_type": "stream",
     "text": [
      "li\n",
      "land\n",
      "ly lame ls lay\n",
      "li\n",
      "land\n",
      "ly lame ls lay\n",
      "li\n",
      "land\n",
      "ly lame ls lay\n",
      "li\n",
      "land\n",
      "ly lame ls lay\n",
      "li\n",
      "land\n",
      "ly lame ls lay\n",
      "li\n",
      "land\n",
      "ly lame ls lay\n",
      "li\n",
      "land\n",
      "ly lame ls lay\n",
      "li\n",
      "land\n",
      "ly lame ls lay\n",
      "li\n",
      "land\n",
      "ly lame ls lay\n",
      "li\n",
      "land\n",
      "ly lame ls lay\n"
     ]
    }
   ],
   "source": [
    "for i in range(0,10):\n",
    "    print(\"li\")\n",
    "    print('land')\n",
    "    print(\"ly lame ls lay\")"
   ]
  },
  {
   "cell_type": "code",
   "execution_count": 4,
   "metadata": {},
   "outputs": [
    {
     "name": "stdout",
     "output_type": "stream",
     "text": [
      "2\n",
      "3\n",
      "4\n",
      "5\n",
      "6\n",
      "7\n",
      "8\n",
      "9\n",
      "10\n"
     ]
    }
   ],
   "source": [
    "c=2\n",
    "while(c<=10):\n",
    "    print(c)\n",
    "    c=c+1"
   ]
  },
  {
   "cell_type": "code",
   "execution_count": 11,
   "metadata": {},
   "outputs": [],
   "source": [
    "num=[10,8,17,15,2,495]\n",
    "minnum=num[0]\n",
    "for i in range(0,6):\n",
    "        if num[i]<minnum:\n",
    "            minnum=num[i]"
   ]
  },
  {
   "cell_type": "code",
   "execution_count": 12,
   "metadata": {},
   "outputs": [
    {
     "data": {
      "text/plain": [
       "2"
      ]
     },
     "execution_count": 12,
     "metadata": {},
     "output_type": "execute_result"
    }
   ],
   "source": [
    "minnum"
   ]
  },
  {
   "cell_type": "code",
   "execution_count": 53,
   "metadata": {},
   "outputs": [],
   "source": [
    "nums=[2,35,1,-98,0,101]\n",
    "mininum=nums[0]\n",
    "for i in range(0,6):\n",
    "        if nums[i]<mininum:\n",
    "            mininum=nums[i]"
   ]
  },
  {
   "cell_type": "code",
   "execution_count": 54,
   "metadata": {},
   "outputs": [
    {
     "data": {
      "text/plain": [
       "-98"
      ]
     },
     "execution_count": 54,
     "metadata": {},
     "output_type": "execute_result"
    }
   ],
   "source": [
    "mininum"
   ]
  },
  {
   "cell_type": "code",
   "execution_count": 30,
   "metadata": {},
   "outputs": [],
   "source": [
    "numes=[3,4,45,21,64,26,29,10,20]\n",
    "mininumes=numes[0]\n",
    "for i in range(0,7):\n",
    "        if numes[i]<mininumes:\n",
    "            mininumes=numes[i]"
   ]
  },
  {
   "cell_type": "code",
   "execution_count": 31,
   "metadata": {},
   "outputs": [
    {
     "data": {
      "text/plain": [
       "3"
      ]
     },
     "execution_count": 31,
     "metadata": {},
     "output_type": "execute_result"
    }
   ],
   "source": [
    "mininumes"
   ]
  },
  {
   "cell_type": "code",
   "execution_count": 24,
   "metadata": {},
   "outputs": [],
   "source": [
    "numss=[2,30,40,85,30,43,71,40]\n",
    "maxnum=numss[0]\n",
    "for i in range(0,7):\n",
    "        if numss[i]>maxnum:\n",
    "            maxnum=numss[i]"
   ]
  },
  {
   "cell_type": "code",
   "execution_count": 25,
   "metadata": {},
   "outputs": [
    {
     "data": {
      "text/plain": [
       "85"
      ]
     },
     "execution_count": 25,
     "metadata": {},
     "output_type": "execute_result"
    }
   ],
   "source": [
    "maxnum"
   ]
  },
  {
   "cell_type": "code",
   "execution_count": 244,
   "metadata": {},
   "outputs": [
    {
     "name": "stdout",
     "output_type": "stream",
     "text": [
      "81\n",
      "35\n",
      "87\n",
      "91\n",
      "99\n",
      "90\n",
      "100\n",
      "53\n"
     ]
    }
   ],
   "source": [
    "import random\n",
    "\n",
    "from random import randint\n",
    "done=0\n",
    "while(done<=7):\n",
    "    don=random.randint(0,100)\n",
    "    print(don)\n",
    "    done=done+1"
   ]
  },
  {
   "cell_type": "code",
   "execution_count": 5,
   "metadata": {},
   "outputs": [],
   "source": [
    "def fmininum(mininum):\n",
    "    mininumes=mininum[0]\n",
    "    for i in range(0,len(mininum)):\n",
    "        if mininum[i]<mininumes:\n",
    "            mininumes=mininum[i]\n",
    "    return(mininumes)"
   ]
  },
  {
   "cell_type": "code",
   "execution_count": 14,
   "metadata": {},
   "outputs": [
    {
     "name": "stdout",
     "output_type": "stream",
     "text": [
      "2\n"
     ]
    }
   ],
   "source": [
    "m=fmininum([9,9,9,9,9,9,9,9])\n",
    "print(m-7)"
   ]
  },
  {
   "cell_type": "code",
   "execution_count": 10,
   "metadata": {},
   "outputs": [],
   "source": [
    "def fmaxnum(num):\n",
    "    maxnum=num[0]\n",
    "    for i in range(0,len(num)):\n",
    "        if num[i]>maxnum:\n",
    "            maxnum=num[i]\n",
    "    return(maxnum)"
   ]
  },
  {
   "cell_type": "code",
   "execution_count": 41,
   "metadata": {},
   "outputs": [
    {
     "data": {
      "text/plain": [
       "22222"
      ]
     },
     "execution_count": 41,
     "metadata": {},
     "output_type": "execute_result"
    }
   ],
   "source": [
    "fmaxnum([22222,2])"
   ]
  },
  {
   "cell_type": "code",
   "execution_count": 7,
   "metadata": {},
   "outputs": [],
   "source": [
    "def example(x):\n",
    "    conter=0\n",
    "    while(conter<len(x)):\n",
    "        print(x[conter])\n",
    "        conter+=1"
   ]
  },
  {
   "cell_type": "code",
   "execution_count": 8,
   "metadata": {},
   "outputs": [
    {
     "name": "stdout",
     "output_type": "stream",
     "text": [
      "47\n",
      "16\n",
      "27\n",
      "45\n",
      "13\n"
     ]
    }
   ],
   "source": [
    "example([47,16,27,45,13])"
   ]
  },
  {
   "cell_type": "code",
   "execution_count": 134,
   "metadata": {},
   "outputs": [],
   "source": [
    "def fsecondmax(x):\n",
    "    z=x[0]\n",
    "    y=x[1]\n",
    "    if y > z:\n",
    "            a=y\n",
    "            y=z\n",
    "            z=a\n",
    "    for i in range (2,len(x)):\n",
    "            if z<x[i]:\n",
    "                y=z\n",
    "                z=x[i]\n",
    "            else:\n",
    "                if y<x[i]:\n",
    "                    y=x[i]\n",
    "    return(y,z)"
   ]
  },
  {
   "cell_type": "code",
   "execution_count": 128,
   "metadata": {},
   "outputs": [],
   "source": []
  },
  {
   "cell_type": "code",
   "execution_count": 135,
   "metadata": {},
   "outputs": [
    {
     "data": {
      "text/plain": [
       "(27, 45)"
      ]
     },
     "execution_count": 135,
     "metadata": {},
     "output_type": "execute_result"
    }
   ],
   "source": [
    " fsecondmax([1,2,27,45,13])"
   ]
  },
  {
   "cell_type": "code",
   "execution_count": 86,
   "metadata": {},
   "outputs": [],
   "source": [
    "def fsecondmini(x):\n",
    "    z=x[0]\n",
    "    y=x[1]\n",
    "    if y < z:\n",
    "        a=y\n",
    "        y=z\n",
    "        z=a\n",
    "    for i in range (0,len(x)):\n",
    "            if z>x[i]:\n",
    "                y=z\n",
    "                z=x[i]\n",
    "            else:\n",
    "                if y>x[i]:\n",
    "                    y=x[i]\n",
    "    return(y)"
   ]
  },
  {
   "cell_type": "code",
   "execution_count": 124,
   "metadata": {
    "scrolled": true
   },
   "outputs": [
    {
     "data": {
      "text/plain": [
       "16"
      ]
     },
     "execution_count": 124,
     "metadata": {},
     "output_type": "execute_result"
    }
   ],
   "source": [
    " fsecondmini([47,16,27,45,13])"
   ]
  },
  {
   "cell_type": "code",
   "execution_count": 98,
   "metadata": {
    "scrolled": true
   },
   "outputs": [],
   "source": [
    "def example2():\n",
    "    t=0\n",
    "    i=0\n",
    "    while(i<20):\n",
    "        if i%2==0 and i%3==0:\n",
    "            t=t+i\n",
    "        i=i+1\n",
    "    return(t)"
   ]
  },
  {
   "cell_type": "code",
   "execution_count": 100,
   "metadata": {},
   "outputs": [
    {
     "data": {
      "text/plain": [
       "36"
      ]
     },
     "execution_count": 100,
     "metadata": {},
     "output_type": "execute_result"
    }
   ],
   "source": [
    "example2()"
   ]
  },
  {
   "cell_type": "code",
   "execution_count": 96,
   "metadata": {},
   "outputs": [
    {
     "data": {
      "text/plain": [
       "36"
      ]
     },
     "execution_count": 96,
     "metadata": {},
     "output_type": "execute_result"
    }
   ],
   "source": [
    "example2()"
   ]
  },
  {
   "cell_type": "code",
   "execution_count": 97,
   "metadata": {},
   "outputs": [
    {
     "name": "stdout",
     "output_type": "stream",
     "text": [
      "36\n"
     ]
    }
   ],
   "source": [
    "t=0\n",
    "for i in range(0,20):\n",
    "    if i%2==0 and i%3==0:\n",
    "            t=t+i \n",
    "print(t)"
   ]
  },
  {
   "cell_type": "code",
   "execution_count": 2,
   "metadata": {},
   "outputs": [],
   "source": [
    "def thirdmax(x):\n",
    "    z=x[0]\n",
    "    y=x[1]\n",
    "    xy=x[2]\n",
    "    if xy>=y:\n",
    "        new=y\n",
    "        y=xy\n",
    "        xy=new\n",
    "    if y >= z:\n",
    "        new=y\n",
    "        y=z\n",
    "        z=new\n",
    "    if xy>=y:\n",
    "        new=y\n",
    "        y=xy\n",
    "        xy=new\n",
    "    print(xy,y,z)\n",
    "    for i in range(3,len(x)):\n",
    "        if z<x[i]:\n",
    "            xy=y\n",
    "            y=z\n",
    "            z=x[i]\n",
    "        elif y<x[i]:\n",
    "            xy=y\n",
    "            y=x[i]\n",
    "        elif xy<x[i]:\n",
    "            xy=x[i]\n",
    "    return(xy,y,z)"
   ]
  },
  {
   "cell_type": "code",
   "execution_count": 9,
   "metadata": {},
   "outputs": [
    {
     "name": "stdout",
     "output_type": "stream",
     "text": [
      "1 333 432\n"
     ]
    },
    {
     "data": {
      "text/plain": [
       "(777, 888, 999)"
      ]
     },
     "execution_count": 9,
     "metadata": {},
     "output_type": "execute_result"
    }
   ],
   "source": [
    "thirdmax([1,333,432,222,81,35,81,91,99,90,100,53,777, 888,999])"
   ]
  },
  {
   "cell_type": "code",
   "execution_count": 247,
   "metadata": {},
   "outputs": [],
   "source": [
    "def thirdmini(x):\n",
    "    z=x[0]\n",
    "    y=x[1]\n",
    "    xy=x[2]\n",
    "    if xy<=y:\n",
    "        new=y\n",
    "        y=xy\n",
    "        xy=new\n",
    "    if y <= z:\n",
    "        new=y\n",
    "        y=z\n",
    "        z=new\n",
    "    if xy<=y:\n",
    "        new=y\n",
    "        y=xy\n",
    "        xy=new\n",
    "    print(xy,y,z)\n",
    "    for i in range(3,len(x)):\n",
    "        if z>x[i]:\n",
    "            xy=y\n",
    "            y=z\n",
    "            z=x[i]\n",
    "        elif y>x[i]:\n",
    "            xy=y\n",
    "            y=x[i]\n",
    "        elif xy>x[i]:\n",
    "            xy=x[i]\n",
    "    return(xy,y,z)"
   ]
  },
  {
   "cell_type": "code",
   "execution_count": 248,
   "metadata": {},
   "outputs": [
    {
     "name": "stdout",
     "output_type": "stream",
     "text": [
      "81 81 35\n"
     ]
    },
    {
     "data": {
      "text/plain": [
       "(81, 53, 35)"
      ]
     },
     "execution_count": 248,
     "metadata": {},
     "output_type": "execute_result"
    }
   ],
   "source": [
    "thirdmini([81,35,81,91,99,90,100,53])"
   ]
  },
  {
   "cell_type": "code",
   "execution_count": 80,
   "metadata": {},
   "outputs": [],
   "source": [
    "def bubble_sort(x):\n",
    "    for i in range (0,len(x)):\n",
    "        for j in range (i+1,len(x)):\n",
    "            if x[j] > x[i]:\n",
    "                xy=x[j]\n",
    "                x[j]=x[i]\n",
    "                x[i]=xy\n",
    "    return(x)"
   ]
  },
  {
   "cell_type": "code",
   "execution_count": 81,
   "metadata": {},
   "outputs": [
    {
     "data": {
      "text/plain": [
       "[7409, 4400, 799, 66, 65, 45, 11, 9, 8, 8, 6, 6, 6, 6, 5, 4, 3, 3, 3, 2, 2]"
      ]
     },
     "execution_count": 81,
     "metadata": {},
     "output_type": "execute_result"
    }
   ],
   "source": [
    "bubble_sort([799,2,6,8,2,9,3,6,5,8,3,66,45,7409,6,6,3,65,11,4,4400])"
   ]
  },
  {
   "cell_type": "code",
   "execution_count": 84,
   "metadata": {},
   "outputs": [],
   "source": [
    "def bubble_sort2(x):\n",
    "    for i in range (0,len(x)):\n",
    "        for j in range (i+1,len(x)):\n",
    "            if x[j] < x[i]:\n",
    "                xy=x[j]\n",
    "                x[j]=x[i]\n",
    "                x[i]=xy\n",
    "    return(x)"
   ]
  },
  {
   "cell_type": "code",
   "execution_count": 85,
   "metadata": {},
   "outputs": [
    {
     "data": {
      "text/plain": [
       "[2, 2, 3, 3, 3, 4, 5, 6, 6, 6, 6, 8, 8, 9, 11, 45, 65, 66, 799, 4400, 7409]"
      ]
     },
     "execution_count": 85,
     "metadata": {},
     "output_type": "execute_result"
    }
   ],
   "source": [
    "bubble_sort2([799,2,6,8,2,9,3,6,5,8,3,66,45,7409,6,6,3,65,11,4,4400])"
   ]
  },
  {
   "cell_type": "code",
   "execution_count": 44,
   "metadata": {},
   "outputs": [],
   "source": [
    "def insertion_sort(arr):\n",
    "    j=1\n",
    "    for j in range(1,len(arr)):\n",
    "        x=arr[j]\n",
    "        i=j-1\n",
    "        while(i>=0):\n",
    "            if x <= arr[i]:\n",
    "                arr[j]=arr[i]\n",
    "                j=j-1\n",
    "            i=i-1\n",
    "        arr[j]=x\n",
    "        print(arr)\n",
    "    return(arr)"
   ]
  },
  {
   "cell_type": "code",
   "execution_count": 47,
   "metadata": {},
   "outputs": [
    {
     "name": "stdout",
     "output_type": "stream",
     "text": [
      "[1, 34, 6, 3, 45, 77, 323, 345, 9657]\n",
      "[1, 6, 34, 3, 45, 77, 323, 345, 9657]\n",
      "[1, 3, 6, 34, 45, 77, 323, 345, 9657]\n",
      "[1, 3, 6, 34, 45, 77, 323, 345, 9657]\n",
      "[1, 3, 6, 34, 45, 77, 323, 345, 9657]\n",
      "[1, 3, 6, 34, 45, 77, 323, 345, 9657]\n",
      "[1, 3, 6, 34, 45, 77, 323, 345, 9657]\n",
      "[1, 3, 6, 34, 45, 77, 323, 345, 9657]\n"
     ]
    },
    {
     "data": {
      "text/plain": [
       "[1, 3, 6, 34, 45, 77, 323, 345, 9657]"
      ]
     },
     "execution_count": 47,
     "metadata": {},
     "output_type": "execute_result"
    }
   ],
   "source": [
    "insertion_sort([1,34,6,3,45,77,323,345,9657])"
   ]
  },
  {
   "cell_type": "code",
   "execution_count": 38,
   "metadata": {},
   "outputs": [],
   "source": [
    "def insertion_sort2(arr):\n",
    "    j=1\n",
    "    for j in range(1,len(arr)):\n",
    "        x=arr[j]\n",
    "        i=j-1\n",
    "        while(i>=0):\n",
    "            if x >= arr[i]:\n",
    "                arr[j]=arr[i]\n",
    "                j=j-1\n",
    "            i=i-1\n",
    "        arr[j]=x\n",
    "        print(arr)\n",
    "    print(arr)\n",
    "    return(arr)"
   ]
  },
  {
   "cell_type": "code",
   "execution_count": 76,
   "metadata": {},
   "outputs": [],
   "source": [
    "def insertion_sort3(arr):\n",
    "    j=1\n",
    "    y=1\n",
    "    while(y<len(arr)):\n",
    "        print(j)\n",
    "        x=arr[j]\n",
    "        i=j-1\n",
    "        while(i>=0):\n",
    "            if x >= arr[i]:\n",
    "                arr[j]=arr[i]\n",
    "                j=j-1\n",
    "            i=i-1\n",
    "        arr[j]=x\n",
    "        y=y+1\n",
    "        j=y\n",
    "        print(j, y)\n",
    "        print(arr)\n",
    "    return(arr)"
   ]
  },
  {
   "cell_type": "code",
   "execution_count": 77,
   "metadata": {},
   "outputs": [
    {
     "name": "stdout",
     "output_type": "stream",
     "text": [
      "1\n",
      "2 2\n",
      "[5, 1, 2, 6, 2, 6, 3, 67]\n",
      "2\n",
      "3 3\n",
      "[5, 2, 1, 6, 2, 6, 3, 67]\n",
      "3\n",
      "4 4\n",
      "[6, 5, 2, 1, 2, 6, 3, 67]\n",
      "4\n",
      "5 5\n",
      "[6, 5, 2, 2, 1, 6, 3, 67]\n",
      "5\n",
      "6 6\n",
      "[6, 6, 5, 2, 2, 1, 3, 67]\n",
      "6\n",
      "7 7\n",
      "[6, 6, 5, 3, 2, 2, 1, 67]\n",
      "7\n",
      "8 8\n",
      "[67, 6, 6, 5, 3, 2, 2, 1]\n"
     ]
    },
    {
     "data": {
      "text/plain": [
       "[67, 6, 6, 5, 3, 2, 2, 1]"
      ]
     },
     "execution_count": 77,
     "metadata": {},
     "output_type": "execute_result"
    }
   ],
   "source": [
    "insertion_sort3([1,5,2,6,2,6,3,67])"
   ]
  },
  {
   "cell_type": "code",
   "execution_count": 39,
   "metadata": {},
   "outputs": [
    {
     "name": "stdout",
     "output_type": "stream",
     "text": [
      "[2, 1, 321, 32, 4435, 4356, 643, 4214, 34235, 45432]\n",
      "[321, 2, 1, 32, 4435, 4356, 643, 4214, 34235, 45432]\n",
      "[321, 32, 2, 1, 4435, 4356, 643, 4214, 34235, 45432]\n",
      "[4435, 321, 32, 2, 1, 4356, 643, 4214, 34235, 45432]\n",
      "[4435, 4356, 321, 32, 2, 1, 643, 4214, 34235, 45432]\n",
      "[4435, 4356, 643, 321, 32, 2, 1, 4214, 34235, 45432]\n",
      "[4435, 4356, 4214, 643, 321, 32, 2, 1, 34235, 45432]\n",
      "[34235, 4435, 4356, 4214, 643, 321, 32, 2, 1, 45432]\n",
      "[45432, 34235, 4435, 4356, 4214, 643, 321, 32, 2, 1]\n",
      "[45432, 34235, 4435, 4356, 4214, 643, 321, 32, 2, 1]\n"
     ]
    },
    {
     "data": {
      "text/plain": [
       "[45432, 34235, 4435, 4356, 4214, 643, 321, 32, 2, 1]"
      ]
     },
     "execution_count": 39,
     "metadata": {},
     "output_type": "execute_result"
    }
   ],
   "source": [
    "insertion_sort2([1,2,321,32,4435,4356,643,4214,34235,45432])"
   ]
  },
  {
   "cell_type": "code",
   "execution_count": 79,
   "metadata": {},
   "outputs": [],
   "source": [
    "def insertion_sort4(arr):\n",
    "    j=1\n",
    "    y=1\n",
    "    while(y<len(arr)):\n",
    "        print(j)\n",
    "        x=arr[j]\n",
    "        i=j-1\n",
    "        while(i>=0):\n",
    "            if x <= arr[i]:\n",
    "                arr[j]=arr[i]\n",
    "                j=j-1\n",
    "            i=i-1\n",
    "        arr[j]=x\n",
    "        y=y+1\n",
    "        j=y\n",
    "        print(j, y)\n",
    "        print(arr)\n",
    "    return(arr)"
   ]
  },
  {
   "cell_type": "code",
   "execution_count": 80,
   "metadata": {},
   "outputs": [
    {
     "name": "stdout",
     "output_type": "stream",
     "text": [
      "1\n",
      "2 2\n",
      "[2, 45, 2, 34, 5, 7, 4, 40, 245]\n",
      "2\n",
      "3 3\n",
      "[2, 2, 45, 34, 5, 7, 4, 40, 245]\n",
      "3\n",
      "4 4\n",
      "[2, 2, 34, 45, 5, 7, 4, 40, 245]\n",
      "4\n",
      "5 5\n",
      "[2, 2, 5, 34, 45, 7, 4, 40, 245]\n",
      "5\n",
      "6 6\n",
      "[2, 2, 5, 7, 34, 45, 4, 40, 245]\n",
      "6\n",
      "7 7\n",
      "[2, 2, 4, 5, 7, 34, 45, 40, 245]\n",
      "7\n",
      "8 8\n",
      "[2, 2, 4, 5, 7, 34, 40, 45, 245]\n",
      "8\n",
      "9 9\n",
      "[2, 2, 4, 5, 7, 34, 40, 45, 245]\n"
     ]
    },
    {
     "data": {
      "text/plain": [
       "[2, 2, 4, 5, 7, 34, 40, 45, 245]"
      ]
     },
     "execution_count": 80,
     "metadata": {},
     "output_type": "execute_result"
    }
   ],
   "source": [
    "insertion_sort4([2, 45, 2, 34, 5, 7, 4, 40, 245])"
   ]
  }
 ],
 "metadata": {
  "kernelspec": {
   "display_name": "Python 3",
   "language": "python",
   "name": "python3"
  },
  "language_info": {
   "codemirror_mode": {
    "name": "ipython",
    "version": 3
   },
   "file_extension": ".py",
   "mimetype": "text/x-python",
   "name": "python",
   "nbconvert_exporter": "python",
   "pygments_lexer": "ipython3",
   "version": "3.7.7"
  }
 },
 "nbformat": 4,
 "nbformat_minor": 4
}
