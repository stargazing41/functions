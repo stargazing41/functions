{
 "cells": [
  {
   "cell_type": "code",
   "execution_count": 7,
   "metadata": {},
   "outputs": [
    {
     "name": "stdout",
     "output_type": "stream",
     "text": [
      "hi\n",
      "Brandon\n",
      "my name is clay\n",
      "hi\n",
      "Brandon\n",
      "my name is clay\n",
      "hi\n",
      "Brandon\n",
      "my name is clay\n",
      "hi\n",
      "Brandon\n",
      "my name is clay\n",
      "hi\n",
      "Brandon\n",
      "my name is clay\n",
      "hi\n",
      "Brandon\n",
      "my name is clay\n",
      "hi\n",
      "Brandon\n",
      "my name is clay\n",
      "hi\n",
      "Brandon\n",
      "my name is clay\n",
      "hi\n",
      "Brandon\n",
      "my name is clay\n",
      "hi\n",
      "Brandon\n",
      "my name is clay\n"
     ]
    }
   ],
   "source": [
    "for i in range(0,10):\n",
    "    print(\"hi\")\n",
    "    print('Brandon')\n",
    "    print(\"my name is clay\")"
   ]
  },
  {
   "cell_type": "code",
   "execution_count": 4,
   "metadata": {},
   "outputs": [
    {
     "name": "stdout",
     "output_type": "stream",
     "text": [
      "2\n",
      "3\n",
      "4\n",
      "5\n",
      "6\n",
      "7\n",
      "8\n",
      "9\n",
      "10\n"
     ]
    }
   ],
   "source": [
    "c=2\n",
    "while(c<=10):\n",
    "    print(c)\n",
    "    c=c+1"
   ]
  },
  {
   "cell_type": "code",
   "execution_count": 11,
   "metadata": {},
   "outputs": [],
   "source": [
    "num=[10,8,17,15,2,495]\n",
    "minnum=num[0]\n",
    "for i in range(0,6):\n",
    "        if num[i]<minnum:\n",
    "            minnum=num[i]"
   ]
  },
  {
   "cell_type": "code",
   "execution_count": 12,
   "metadata": {},
   "outputs": [
    {
     "data": {
      "text/plain": [
       "2"
      ]
     },
     "execution_count": 12,
     "metadata": {},
     "output_type": "execute_result"
    }
   ],
   "source": [
    "minnum"
   ]
  },
  {
   "cell_type": "code",
   "execution_count": 53,
   "metadata": {},
   "outputs": [],
   "source": [
    "nums=[2,35,1,-98,0,101]\n",
    "mininum=nums[0]\n",
    "for i in range(0,6):\n",
    "        if nums[i]<mininum:\n",
    "            mininum=nums[i]"
   ]
  },
  {
   "cell_type": "code",
   "execution_count": 54,
   "metadata": {},
   "outputs": [
    {
     "data": {
      "text/plain": [
       "-98"
      ]
     },
     "execution_count": 54,
     "metadata": {},
     "output_type": "execute_result"
    }
   ],
   "source": [
    "mininum"
   ]
  },
  {
   "cell_type": "code",
   "execution_count": 30,
   "metadata": {},
   "outputs": [],
   "source": [
    "numes=[3,4,45,21,64,26,29,10,20]\n",
    "mininumes=numes[0]\n",
    "for i in range(0,7):\n",
    "        if numes[i]<mininumes:\n",
    "            mininumes=numes[i]"
   ]
  },
  {
   "cell_type": "code",
   "execution_count": 31,
   "metadata": {},
   "outputs": [
    {
     "data": {
      "text/plain": [
       "3"
      ]
     },
     "execution_count": 31,
     "metadata": {},
     "output_type": "execute_result"
    }
   ],
   "source": [
    "mininumes"
   ]
  },
  {
   "cell_type": "code",
   "execution_count": 24,
   "metadata": {},
   "outputs": [],
   "source": [
    "numss=[2,30,40,85,30,43,71,40]\n",
    "maxnum=numss[0]\n",
    "for i in range(0,7):\n",
    "        if numss[i]>maxnum:\n",
    "            maxnum=numss[i]"
   ]
  },
  {
   "cell_type": "code",
   "execution_count": 25,
   "metadata": {},
   "outputs": [
    {
     "data": {
      "text/plain": [
       "85"
      ]
     },
     "execution_count": 25,
     "metadata": {},
     "output_type": "execute_result"
    }
   ],
   "source": [
    "maxnum"
   ]
  },
  {
   "cell_type": "code",
   "execution_count": 3,
   "metadata": {},
   "outputs": [
    {
     "name": "stdout",
     "output_type": "stream",
     "text": [
      "72\n",
      "32\n",
      "28\n",
      "2\n",
      "40\n",
      "9\n",
      "47\n",
      "84\n"
     ]
    }
   ],
   "source": [
    "import random\n",
    "\n",
    "from random import randint\n",
    "done=0\n",
    "while(done<=7):\n",
    "    don=random.randint(0,100)\n",
    "    print(don)\n",
    "    done=done+1"
   ]
  },
  {
   "cell_type": "code",
   "execution_count": 5,
   "metadata": {},
   "outputs": [],
   "source": [
    "def fmininum(mininum):\n",
    "    mininumes=mininum[0]\n",
    "    for i in range(0,len(mininum)):\n",
    "        if mininum[i]<mininumes:\n",
    "            mininumes=mininum[i]\n",
    "    return(mininumes)"
   ]
  },
  {
   "cell_type": "code",
   "execution_count": 14,
   "metadata": {},
   "outputs": [
    {
     "name": "stdout",
     "output_type": "stream",
     "text": [
      "2\n"
     ]
    }
   ],
   "source": [
    "m=fmininum([9,9,9,9,9,9,9,9])\n",
    "print(m-7)"
   ]
  },
  {
   "cell_type": "code",
   "execution_count": 10,
   "metadata": {},
   "outputs": [],
   "source": [
    "def fmaxnum(num):\n",
    "    maxnum=num[0]\n",
    "    for i in range(0,len(num)):\n",
    "        if num[i]>maxnum:\n",
    "            maxnum=num[i]\n",
    "    return(maxnum)"
   ]
  },
  {
   "cell_type": "code",
   "execution_count": 41,
   "metadata": {},
   "outputs": [
    {
     "data": {
      "text/plain": [
       "22222"
      ]
     },
     "execution_count": 41,
     "metadata": {},
     "output_type": "execute_result"
    }
   ],
   "source": [
    "fmaxnum([22222,2])"
   ]
  },
  {
   "cell_type": "code",
   "execution_count": 7,
   "metadata": {},
   "outputs": [],
   "source": [
    "def example(x):\n",
    "    conter=0\n",
    "    while(conter<len(x)):\n",
    "        print(x[conter])\n",
    "        conter+=1"
   ]
  },
  {
   "cell_type": "code",
   "execution_count": 8,
   "metadata": {},
   "outputs": [
    {
     "name": "stdout",
     "output_type": "stream",
     "text": [
      "47\n",
      "16\n",
      "27\n",
      "45\n",
      "13\n"
     ]
    }
   ],
   "source": [
    "example([47,16,27,45,13])"
   ]
  },
  {
   "cell_type": "code",
   "execution_count": 1,
   "metadata": {},
   "outputs": [],
   "source": [
    "def fsecondmax(x):\n",
    "    z=x[0]\n",
    "    y=x[1]\n",
    "    if y > z:\n",
    "            a=y\n",
    "            y=z\n",
    "            z=a\n",
    "    for i in range (2,len(x)):\n",
    "            if z<x[i]:\n",
    "                y=z\n",
    "                z=x[i]\n",
    "            else:\n",
    "                if y<x[i]:\n",
    "                    y=x[i]\n",
    "    return(y)"
   ]
  },
  {
   "cell_type": "code",
   "execution_count": 128,
   "metadata": {},
   "outputs": [],
   "source": []
  },
  {
   "cell_type": "code",
   "execution_count": 2,
   "metadata": {},
   "outputs": [
    {
     "data": {
      "text/plain": [
       "45"
      ]
     },
     "execution_count": 2,
     "metadata": {},
     "output_type": "execute_result"
    }
   ],
   "source": [
    " fsecondmax([47,16,27,45,13])"
   ]
  },
  {
   "cell_type": "code",
   "execution_count": 86,
   "metadata": {},
   "outputs": [],
   "source": [
    "def fsecondmini(x):\n",
    "    z=x[0]\n",
    "    y=x[1]\n",
    "    if y < z:\n",
    "        a=y\n",
    "        y=z\n",
    "        z=a\n",
    "    for i in range (0,len(x)):\n",
    "            if z>x[i]:\n",
    "                y=z\n",
    "                z=x[i]\n",
    "            else:\n",
    "                if y>x[i]:\n",
    "                    y=x[i]\n",
    "    return(y)"
   ]
  },
  {
   "cell_type": "code",
   "execution_count": 124,
   "metadata": {
    "scrolled": true
   },
   "outputs": [
    {
     "data": {
      "text/plain": [
       "16"
      ]
     },
     "execution_count": 124,
     "metadata": {},
     "output_type": "execute_result"
    }
   ],
   "source": [
    " fsecondmini([47,16,27,45,13])"
   ]
  },
  {
   "cell_type": "code",
   "execution_count": 94,
   "metadata": {
    "scrolled": true
   },
   "outputs": [],
   "source": [
    "def example2():\n",
    "    t=0\n",
    "    i=0\n",
    "    while(i<=20):\n",
    "        if i%2==0 and i%3==0:\n",
    "            t=t+i\n",
    "        i=i+1\n",
    "    return(t)"
   ]
  },
  {
   "cell_type": "code",
   "execution_count": 95,
   "metadata": {},
   "outputs": [
    {
     "data": {
      "text/plain": [
       "36"
      ]
     },
     "execution_count": 95,
     "metadata": {},
     "output_type": "execute_result"
    }
   ],
   "source": [
    "t"
   ]
  },
  {
   "cell_type": "code",
   "execution_count": 96,
   "metadata": {},
   "outputs": [
    {
     "data": {
      "text/plain": [
       "36"
      ]
     },
     "execution_count": 96,
     "metadata": {},
     "output_type": "execute_result"
    }
   ],
   "source": [
    "example2()"
   ]
  },
  {
   "cell_type": "code",
   "execution_count": 40,
   "metadata": {},
   "outputs": [
    {
     "name": "stdout",
     "output_type": "stream",
     "text": [
      "36\n"
     ]
    }
   ],
   "source": [
    "t=0\n",
    "for i in range(0,20):\n",
    "    if i%2==0 and i%3==0:\n",
    "            t=t+i \n",
    "print(t)"
   ]
  }
 ],
 "metadata": {
  "kernelspec": {
   "display_name": "Python 3",
   "language": "python",
   "name": "python3"
  },
  "language_info": {
   "codemirror_mode": {
    "name": "ipython",
    "version": 3
   },
   "file_extension": ".py",
   "mimetype": "text/x-python",
   "name": "python",
   "nbconvert_exporter": "python",
   "pygments_lexer": "ipython3",
   "version": "3.7.7"
  }
 },
 "nbformat": 4,
 "nbformat_minor": 4
}
